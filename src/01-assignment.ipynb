{
 "cells": [
  {
   "cell_type": "markdown",
   "id": "fffcbb2c-4423-4f1c-bc90-e1ac7fbaa456",
   "metadata": {},
   "source": [
    "# Задания "
   ]
  },
  {
   "cell_type": "markdown",
   "id": "c2d747fe-7b74-43e0-95b3-16525e9846ac",
   "metadata": {},
   "source": [
    "## Task 1"
   ]
  },
  {
   "cell_type": "markdown",
   "id": "2e2f1076-fd27-4222-95e9-d3b7ff8ff36a",
   "metadata": {},
   "source": [
    "Напиши код, который будет решать квадратное уравнение вида\n",
    "$ ax^2 + bx + c = 0, a\\neq0$. \\\n",
    "Для этого понадобится найти дискриминант. Его формула $ D = b^2 − 4ac $"
   ]
  },
  {
   "cell_type": "markdown",
   "id": "20bf557b-21f9-46fa-b8db-76b7a96526f4",
   "metadata": {},
   "source": [
    "Для начала напиши формулу нахождения корней квадратного уравнения на языке LaTeX\n",
    "\n",
    "\\begin{equation}\n",
    "x_{1,2}=\\frac{-b\\pm\\sqrt{b^2-4ac}}{2a}\n",
    "\\end{equation}"
   ]
  },
  {
   "cell_type": "markdown",
   "id": "c78b058d-777d-4369-b86d-0c0fc013eba9",
   "metadata": {},
   "source": [
    "Теперь, когда ты вспомнил как находить корни, приступай к написанию функции:\n",
    "- Функция принимает на вход коэффициент a, b, c.\n",
    "- Функция должна возвращать кортеж корней уравнения. \n",
    "- Если корней у уравнения нет, то функция должна вернуть None"
   ]
  },
  {
   "cell_type": "code",
   "execution_count": 1,
   "id": "fe05b120",
   "metadata": {},
   "outputs": [
    {
     "name": "stdout",
     "output_type": "stream",
     "text": [
      "[3.5]\n",
      "[1.0, 0.0]\n",
      "None\n"
     ]
    }
   ],
   "source": [
    "import math\n",
    "\n",
    "def quadratic_equation(a, b, c):\n",
    "    d = b**2 - 4 * a * c #находим дискриминант\n",
    "    if d == 0:\n",
    "        return [(-b) / (2 * a)] #возращаем один корень при D=0\n",
    "    elif d > 0:\n",
    "        return [(-b + d**0.5) / (2 * a), (-b - d**0.5) / (2 * a)] #возвращаем два корня при D>0\n",
    "    \n",
    "# Функция принимает 3 аргумента a, b, c - коэффициенты квадратного уравнения и возвращает список с корнями уравнения.\n",
    "print (quadratic_equation (-4, 28, -49))\n",
    "print (quadratic_equation (1, -1, 0))\n",
    "print (quadratic_equation (3, -4, 94))"
   ]
  },
  {
   "cell_type": "markdown",
   "id": "a8541146-f127-4482-b067-279d50975dac",
   "metadata": {},
   "source": [
    "## Task 2"
   ]
  },
  {
   "cell_type": "markdown",
   "id": "816c48be-0963-4bd6-bd86-c8172eb8968e",
   "metadata": {},
   "source": [
    "Функция, которая на вход принимает cписок случайных чисел, а возвращает уже отсортированный методом Пузырька по возрастанию."
   ]
  },
  {
   "cell_type": "code",
   "execution_count": 2,
   "id": "3fbaf6b3-876f-4ecf-9be6-d26181ee3a48",
   "metadata": {},
   "outputs": [
    {
     "name": "stdout",
     "output_type": "stream",
     "text": [
      "[85, 30, 16, 4, 45, 32, 16, 80, 65, 76, 98, 38, 10, 6, 71]\n",
      "[4, 6, 10, 16, 16, 30, 32, 38, 45, 65, 71, 76, 80, 85, 98]\n"
     ]
    }
   ],
   "source": [
    "from random import randint\n",
    "\n",
    "mylist = [randint(0, 100) for i in range(15)] # 15 случайных чисел на вход\n",
    "print(mylist) # вывод 15-ти случайных чисел\n",
    "\n",
    "def bubble_sort(lst): # Зовем функцию пузырька на сортировку\n",
    "    n = len(lst)\n",
    "    for i in range(n):\n",
    "        for j in range(n - i - 1):\n",
    "            if lst[j] > lst[j + 1]:\n",
    "                lst[j], lst[j + 1] = lst[j + 1], lst[j]\n",
    "                \n",
    "bubble_sort(mylist) # Сортируем список 15-ти случайных чисел\n",
    "print(mylist) # выводим отсортированный список"
   ]
  },
  {
   "cell_type": "markdown",
   "id": "0026496c-03a8-4fcc-907b-dfb8f3fc0efb",
   "metadata": {},
   "source": [
    "## Task 3"
   ]
  },
  {
   "cell_type": "markdown",
   "id": "688251be-39a3-49ed-9993-a5f9b39f430d",
   "metadata": {},
   "source": [
    "Самое часто встречающееся слово в романе \"Война и Мир\" без учета:\n",
    "   * Пунктуации\n",
    "   * Слов **короче четырех** символов \n",
    "   * 'Стоп-слов', которые приведены в файле в stop_words_russian.txt\n",
    "   \n",
    ">Для решения задачи достаточно использовать стандартные библиотеки Python. \\\n",
    "\n",
    ">Обязательно поделись с пирами в rocket-chat сколько раз у тебя встретилось это слово. Результаты, в зависимости от предобработки, могут чуть отличаться."
   ]
  },
  {
   "cell_type": "code",
   "execution_count": 3,
   "id": "94501d71-ee88-4f78-808d-20e79a5f3707",
   "metadata": {},
   "outputs": [
    {
     "name": "stdout",
     "output_type": "stream",
     "text": [
      "Самое часто встречающееся слово в романе 'Война и Мир': пьер\n",
      "Количество вхождений: 1401\n"
     ]
    }
   ],
   "source": [
    "import re # операции с регулярными выражениями\n",
    "import string\n",
    "\n",
    "# Открываем файл с романом\n",
    "with open(\"../datasets/war_and_peace.txt\", \"r\", encoding=\"utf-8\") as file:\n",
    "    data = file.read()\n",
    "\n",
    "# Получаем список пунктуационных символов\n",
    "punctuations = list(string.punctuation)\n",
    "\n",
    "# Получаем список стоп-слов\n",
    "with open(\"../datasets/stop_words_russian.txt\", \"r\", encoding=\"utf-8\") as file:\n",
    "    stop_words = file.read().split(\"\\n\")\n",
    "\n",
    "# Удаляем пунктуационные символы из текста\n",
    "for punctuation in punctuations:\n",
    "    data = data.replace(punctuation, \"\")\n",
    "\n",
    "# Разбиваем текст на слова\n",
    "words = re.findall(r'\\b\\w+\\b', data.lower())\n",
    "\n",
    "# Удаляем слова-стоп слова и слова короче 4 символов\n",
    "words = [word for word in words if word not in stop_words and len(word) >= 4]\n",
    "\n",
    "# Определяем количество вхождений каждого слова\n",
    "word_count = {}\n",
    "for word in words:\n",
    "    if word not in word_count:\n",
    "        word_count[word] = 0\n",
    "    word_count[word] += 1\n",
    "\n",
    "# Находим наиболее часто встречающееся слово\n",
    "most_common_word = max(word_count, key=word_count.get)\n",
    "\n",
    "# Получаем количество самого часто встречающегося слова\n",
    "most_common_word_count = word_count[most_common_word]\n",
    "\n",
    "print(\"Самое часто встречающееся слово в романе 'Война и Мир':\", most_common_word)\n",
    "print(\"Количество вхождений:\", most_common_word_count)"
   ]
  },
  {
   "cell_type": "markdown",
   "id": "d4b6f922-7a22-4b38-8529-c92994edd38c",
   "metadata": {},
   "source": [
    "## Task 4"
   ]
  },
  {
   "cell_type": "markdown",
   "id": "c2cef602-ab87-47f8-ab2c-e323442b62f7",
   "metadata": {},
   "source": [
    "Функция для расчета числа Фибоначчи с использованием рекурсивной функции."
   ]
  },
  {
   "cell_type": "code",
   "execution_count": 4,
   "id": "ec1c1860-774d-4583-a44b-bdc30492eead",
   "metadata": {},
   "outputs": [
    {
     "name": "stdout",
     "output_type": "stream",
     "text": [
      "0 1 1 2 3 "
     ]
    }
   ],
   "source": [
    "def fib(n): \n",
    "    \n",
    "    if n == 0: \n",
    "        return 0 \n",
    "    elif n == 1: \n",
    "        return 1 \n",
    "    else: \n",
    "        return fib(n - 1) + fib(n - 2) \n",
    "\n",
    "for i in range(5): \n",
    "    print(fib(i), end=\" \") # вместо i можно подставить порядковый номер числа Фибоначчи"
   ]
  },
  {
   "cell_type": "markdown",
   "id": "1acc3069-4b1a-4a5c-98e4-055731203d2d",
   "metadata": {},
   "source": [
    "## Task 5"
   ]
  },
  {
   "cell_type": "markdown",
   "id": "944e804e-fb40-4ea2-b931-38b595d3c262",
   "metadata": {},
   "source": [
    "Функция перевода валюты в рубли."
   ]
  },
  {
   "cell_type": "code",
   "execution_count": 5,
   "id": "570cfb71-5cf0-41fc-aae7-cf2b2812eaca",
   "metadata": {},
   "outputs": [
    {
     "name": "stdout",
     "output_type": "stream",
     "text": [
      "90.119\n",
      "51873.69792800001\n",
      "13281.304398\n"
     ]
    }
   ],
   "source": [
    "import requests\n",
    "\n",
    "def convert2RU(currency, value):\n",
    "    req = requests.get ('https://www.cbr-xml-daily.ru/daily_json.js').json()\n",
    "    if currency in req ['Valute']:\n",
    "        return req['Valute'][currency]['Value'] * value\n",
    "    \n",
    "print (convert2RU('USD', 1))\n",
    "print (convert2RU('EUR', 512.59))\n",
    "print (convert2RU('GBP', 112.38))\n"
   ]
  },
  {
   "cell_type": "markdown",
   "id": "fe1396fa-7109-48ad-a255-4d4f622c18a4",
   "metadata": {},
   "source": [
    "## *Task 6. Дополнительное задание"
   ]
  },
  {
   "cell_type": "markdown",
   "id": "71315701-39bd-4759-afd9-7bf20486b4f7",
   "metadata": {},
   "source": [
    "Написание проверки на пaлиндром."
   ]
  },
  {
   "cell_type": "markdown",
   "id": "715fd45b-eb76-4eb5-bbd8-a257035fe892",
   "metadata": {},
   "source": [
    "1. На вход функции _isPalindrome_ подается **число** (int). \\\n",
    "Функция возвращает **True**, если число является палидромом и **False** в противном случае. "
   ]
  },
  {
   "cell_type": "code",
   "execution_count": 6,
   "id": "9f48d9c7-c413-47fb-b692-ce5ad8ed9ec1",
   "metadata": {},
   "outputs": [
    {
     "name": "stdout",
     "output_type": "stream",
     "text": [
      "True\n"
     ]
    }
   ],
   "source": [
    "def isPalindrome():\n",
    "\n",
    "    x = int(input(\"Enter The number \"))\n",
    "    placehold = x\n",
    "    rev = 0\n",
    "    while placehold > 0:\n",
    "        temp = placehold % 10\n",
    "        rev = (rev * 10 + temp)\n",
    "        placehold = placehold // 10\n",
    "    #print(rev)\n",
    "\n",
    "    if x == rev:\n",
    "        return True\n",
    "    else:\n",
    "        return False\n",
    "\n",
    "print(isPalindrome())"
   ]
  },
  {
   "cell_type": "markdown",
   "id": "e86f6f7c-c3b0-4b92-bb3d-651dcc7d4706",
   "metadata": {},
   "source": [
    "2. Реализация функции без использования перевода числа в строку."
   ]
  },
  {
   "cell_type": "code",
   "execution_count": 7,
   "id": "35cf92fa-04c6-489b-9523-99d78dce4ba1",
   "metadata": {},
   "outputs": [
    {
     "data": {
      "text/plain": [
       "False"
      ]
     },
     "execution_count": 7,
     "metadata": {},
     "output_type": "execute_result"
    }
   ],
   "source": [
    "def is_palindrome(num):\n",
    "    rev = 0\n",
    "    n = num\n",
    "    while num > 0:\n",
    "        dig = num % 10\n",
    "        rev = rev * 10 + dig\n",
    "        num = num // 10\n",
    "    return n == rev\n",
    "is_palindrome(-1221) # в качестве аргумента в скобки вводится число для проверки на палиндром "
   ]
  }
 ],
 "metadata": {
  "kernelspec": {
   "display_name": "Python 3 (ipykernel)",
   "language": "python",
   "name": "python3"
  },
  "language_info": {
   "codemirror_mode": {
    "name": "ipython",
    "version": 3
   },
   "file_extension": ".py",
   "mimetype": "text/x-python",
   "name": "python",
   "nbconvert_exporter": "python",
   "pygments_lexer": "ipython3",
   "version": "3.11.4"
  }
 },
 "nbformat": 4,
 "nbformat_minor": 5
}
